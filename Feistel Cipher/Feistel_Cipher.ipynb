{
  "nbformat": 4,
  "nbformat_minor": 0,
  "metadata": {
    "colab": {
      "name": "Feistel Cipher",
      "provenance": []
    },
    "kernelspec": {
      "name": "python3",
      "display_name": "Python 3"
    },
    "language_info": {
      "name": "python"
    }
  },
  "cells": [
    {
      "cell_type": "markdown",
      "metadata": {
        "id": "S9jvZAWuYBzm"
      },
      "source": [
        "**Implement Feistel Cipher in  python programming language**"
      ]
    },
    {
      "cell_type": "code",
      "metadata": {
        "colab": {
          "base_uri": "https://localhost:8080/"
        },
        "id": "IMGWAfWbX_Rd",
        "outputId": "a50a198d-515a-48a8-81ff-daa6f6190630"
      },
      "source": [
        "def func(x,k):\n",
        "    return bin(int(x,2)|int(k,2))\n",
        "def xor(r,l):\n",
        "    return bin(int(r,2)^int(l,2))\n",
        "    \n",
        "def encrypt(le,re,k):\n",
        "#     print(p1,p2,k)\n",
        "    r1=func(re,k)[2::]\n",
        "    r2=xor(r1,le)[2::]\n",
        "    r2=\"0\"*(len(r1)-len(r2))+r2\n",
        "#     print(r2+re)\n",
        "    return r2+re\n",
        "\n",
        "def decrypt(le,re,k):\n",
        "    r1=func(re,k)[2::]\n",
        "    r2=xor(r1,le)[2::]\n",
        "    r2=\"0\"*(len(r1)-len(r2))+r2\n",
        "    return r2+re\n",
        "\n",
        "p=input(\"Enter Plain text (in binary format): \")\n",
        "t=int(input(\"Ënter total rounds <=16:\"))\n",
        "print(\"Enter %d KEYS\"%t)\n",
        "k=[]\n",
        "for i in range(t):\n",
        "    k.append(input(\"Enter Key-\"+str(i+1)+\" (in binary format): \"))\n",
        "n=len(p)\n",
        "C=p\n",
        "for i in range(t):\n",
        "    C=encrypt(C[0:n//2],C[n//2:n],k[i])\n",
        "print(\"Encrypted data= %s\"%C)\n",
        "\n",
        "P=C\n",
        "for i in range(t):\n",
        "    P=decrypt(P[0:n//2],P[n//2:n],k[i])\n",
        "print(\"Decrypted data= %s\"%P)"
      ],
      "execution_count": null,
      "outputs": [
        {
          "output_type": "stream",
          "name": "stdout",
          "text": [
            "Enter Plain text (in binary format): 11101100\n",
            "Ënter total rounds <=16:2\n",
            "Enter 2 KEYS\n",
            "Enter Key-1 (in binary format): 0110\n",
            "Enter Key-2 (in binary format): 1100\n",
            "Encrypted data= 11001100\n",
            "Decrypted data= 11101100\n"
          ]
        }
      ]
    }
  ]
}