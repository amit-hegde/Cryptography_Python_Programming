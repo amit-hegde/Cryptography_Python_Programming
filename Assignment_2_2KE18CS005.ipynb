{
  "nbformat": 4,
  "nbformat_minor": 0,
  "metadata": {
    "colab": {
      "name": "Assignment_2_2KE18CS005.ipynb",
      "provenance": [],
      "collapsed_sections": [],
      "authorship_tag": "ABX9TyMod2PZAUpDvRNXMMihvwUg",
      "include_colab_link": true
    },
    "kernelspec": {
      "name": "python3",
      "display_name": "Python 3"
    },
    "language_info": {
      "name": "python"
    }
  },
  "cells": [
    {
      "cell_type": "markdown",
      "metadata": {
        "id": "view-in-github",
        "colab_type": "text"
      },
      "source": [
        "<a href=\"https://colab.research.google.com/github/amit-hegde/Cryptography_Python_Programming/blob/main/Assignment_2_2KE18CS005.ipynb\" target=\"_parent\"><img src=\"https://colab.research.google.com/assets/colab-badge.svg\" alt=\"Open In Colab\"/></a>"
      ]
    },
    {
      "cell_type": "markdown",
      "metadata": {
        "id": "AyjKmn_16MiV"
      },
      "source": [
        "# Assignment-2"
      ]
    },
    {
      "cell_type": "markdown",
      "metadata": {
        "id": "7uwTj_Vg6EuD"
      },
      "source": [
        "**Implement playfair cipher in 'C' or python.  Upload your write-up and code**"
      ]
    },
    {
      "cell_type": "code",
      "metadata": {
        "colab": {
          "base_uri": "https://localhost:8080/"
        },
        "id": "d71pjUsW53LY",
        "outputId": "b0145bba-abec-400b-93d3-d47647112dc8"
      },
      "source": [
        "\n",
        "import numpy as np\n",
        "\n",
        "        \n",
        "\n",
        "def enc(x,y):\n",
        "    xx=x\n",
        "    yy=y\n",
        "\n",
        "    i=np.argwhere(a2 == x)\n",
        "    j=np.argwhere(a2 == y)\n",
        "#     print(i,j)\n",
        "    if(i[0][1]==j[0][1]):\n",
        "        i1=(i[0][0]+1)%5\n",
        "        j1=(j[0][0]+1)%5\n",
        "        x=a2[i1][i[0][1]]\n",
        "        y=a2[j1][j[0][1]]\n",
        "    \n",
        "    elif(i[0][0]==j[0][0]):\n",
        "        i1=(i[0][1]+1)%5\n",
        "        j1=(j[0][1]+1)%5\n",
        "        x=a2[i[0][0]][i1]\n",
        "        y=a2[j[0][0]][j1]\n",
        "      \n",
        "    else:\n",
        "        x1=i[0][1]\n",
        "        y1=j[0][1]\n",
        "        x=a2[i[0][0]][y1]\n",
        "        y=a2[j[0][0]][x1]\n",
        "    print(xx+yy,\"->\",x+y)  \n",
        "    return x+y   \n",
        "\n",
        "\n",
        "def dec(x,y):\n",
        "    xx=x\n",
        "    yy=y\n",
        "\n",
        "    i=np.argwhere(a2 == x)\n",
        "    j=np.argwhere(a2 == y)\n",
        "    if(i[0][1]==j[0][1]):\n",
        "        i1=(i[0][0]-1)%5\n",
        "        j1=(j[0][0]-1)%5\n",
        "        x=a2[i1][i[0][1]]\n",
        "        y=a2[j1][j[0][1]]\n",
        "\n",
        "    elif(i[0][0]==j[0][0]):\n",
        "        i1=(i[0][1]-1)%5\n",
        "        j1=(j[0][1]-1)%5\n",
        "        x=a2[i[0][0]][i1]\n",
        "        y=a2[j[0][0]][j1]\n",
        "      \n",
        "    else:\n",
        "        x1=i[0][1]\n",
        "        y1=j[0][1]\n",
        "        x=a2[i[0][0]][y1]\n",
        "        y=a2[j[0][0]][x1]\n",
        "    print(xx+yy,\"->\",x+y)  \n",
        "    return x+y       \n",
        "\n",
        "\n",
        "k=input(\"Enter Key: \")\n",
        "p=input(\"Enter Text :\")\n",
        "k=k.upper()\n",
        "p=p.upper()\n",
        "a=[0]*25\n",
        "pos=0\n",
        "for i in k:\n",
        "    v=i\n",
        "    if(v==\"I\" or v==\"J\"):\n",
        "        v='I'\n",
        "    if(v not in a):\n",
        "        a[pos]=v\n",
        "        pos+=1\n",
        "\n",
        "for i in range(65,(65+26)):\n",
        "    v=chr(i)\n",
        "    if(v==\"I\" or v==\"J\"):\n",
        "        v='I'\n",
        "    if(v not in a):\n",
        "        a[pos]=v\n",
        "        pos+=1\n",
        "    \n",
        "arr = np.array(a)\n",
        "a2=arr.reshape(5, 5)\n",
        "# print(a)\n",
        "print(a2)\n",
        "\n",
        "i=0\n",
        "p1=[]\n",
        "while(i<len(p)):\n",
        "    if(p[i] !=\" \"):\n",
        "        if(i==len(p)-1):  \n",
        "            p1.append(p[i]+\"Z\")\n",
        "            i+=1\n",
        "        elif(p[i]==p[i+1]):\n",
        "            p1.append(p[i]+\"X\")\n",
        "            i+=1\n",
        "        \n",
        "        else:\n",
        "            p1.append(p[i]+p[i+1])\n",
        "            i+=2\n",
        "# print(p1)\n",
        "print(\"\\nEncrypting.. \") \n",
        "ec=[]\n",
        "for i in p1:\n",
        "    ec.append(enc(i[0],i[1]))\n",
        "print()    \n",
        "print(\"Encrypted data =\",\"\".join(ec))    \n",
        "print(\"\\nDecrypting.. \")\n",
        "dc=[]\n",
        "for i in ec:\n",
        "    dc.append(dec(i[0],i[1]))\n",
        "print()\n",
        "print(\"Decrypted data =\",\"\".join(dc))"
      ],
      "execution_count": null,
      "outputs": [
        {
          "output_type": "stream",
          "name": "stdout",
          "text": [
            "Enter Key: MONNARRCHY\n",
            "Enter Text :CONSIGNMENT\n",
            "[['M' 'O' 'N' 'A' 'R']\n",
            " ['C' 'H' 'Y' 'B' 'D']\n",
            " ['E' 'F' 'G' 'I' 'K']\n",
            " ['L' 'P' 'Q' 'S' 'T']\n",
            " ['U' 'V' 'W' 'X' 'Z']]\n",
            "\n",
            "Encrypting.. \n",
            "CO -> HM\n",
            "NS -> AQ\n",
            "IG -> KI\n",
            "NM -> AO\n",
            "EN -> GM\n",
            "TZ -> ZR\n",
            "\n",
            "Encrypted data = HMAQKIAOGMZR\n",
            "\n",
            "Decrypting.. \n",
            "HM -> CO\n",
            "AQ -> NS\n",
            "KI -> IG\n",
            "AO -> NM\n",
            "GM -> EN\n",
            "ZR -> TZ\n",
            "\n",
            "Decrypted data = CONSIGNMENTZ\n"
          ]
        }
      ]
    }
  ]
}